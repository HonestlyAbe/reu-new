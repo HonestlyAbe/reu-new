{
 "cells": [
  {
   "cell_type": "code",
   "execution_count": 7,
   "id": "55e4556b",
   "metadata": {},
   "outputs": [
    {
     "name": "stdout",
     "output_type": "stream",
     "text": [
      "10\n",
      "9\n",
      "8\n",
      "7\n",
      "6\n",
      "5\n",
      "4\n",
      "3\n",
      "2\n",
      "1\n",
      "BOOM!\n"
     ]
    }
   ],
   "source": [
    "def boom(n):\n",
    "    \"\"\"\n",
    "    write a program that counts down and then says Boom!\n",
    "    \"\"\"\n",
    "    for i in range(n, 0, -1):\n",
    "        print(i)\n",
    "    print(\"BOOM!\")\n",
    "\n",
    "\"\"\"\n",
    "should print:\n",
    "10\n",
    "9\n",
    "8\n",
    "7\n",
    "6\n",
    "5\n",
    "4\n",
    "3\n",
    "2\n",
    "1\n",
    "BOOM!\n",
    "\"\"\"\n",
    "boom(10)"
   ]
  },
  {
   "cell_type": "code",
   "execution_count": 9,
   "id": "1901a8a8",
   "metadata": {},
   "outputs": [
    {
     "name": "stdout",
     "output_type": "stream",
     "text": [
      "printing object of type <class 'list'>\n",
      "10\n",
      "9\n",
      "8\n",
      "7\n",
      "6\n",
      "5\n",
      "4\n",
      "3\n",
      "2\n",
      "1\n",
      "BOOM!\n"
     ]
    }
   ],
   "source": [
    "def print_them_all(the_list):\n",
    "    \"\"\"\n",
    "    assumes the_list is a list\n",
    "    topics -\n",
    "        iterables\n",
    "        list data type\n",
    "        a string is an iterable (see next box)\n",
    "    \"\"\"\n",
    "    for element in the_list:\n",
    "        print(element)\n",
    "\n",
    "def the_new_boom(n):\n",
    "    \n",
    "    def make_a_list(n):\n",
    "        return [x for x in range(n, 0, -1)]\n",
    "    \n",
    "    the_list = make_a_list(n)\n",
    "    print_them_all(the_list)\n",
    "    print(\"BOOM!\")\n",
    "    \n",
    "the_new_boom(10)"
   ]
  },
  {
   "cell_type": "code",
   "execution_count": 11,
   "id": "4376f885",
   "metadata": {},
   "outputs": [
    {
     "name": "stdout",
     "output_type": "stream",
     "text": [
      "10\n",
      "9\n",
      "8\n",
      "7\n",
      "6\n",
      "5\n",
      "4\n",
      "3\n",
      "2\n",
      "1\n",
      "BOOM!\n"
     ]
    }
   ],
   "source": [
    "def boom_recursive(n):\n",
    "    if n > 0:\n",
    "        print(n)\n",
    "        boom_recursive(n-1)\n",
    "    else:\n",
    "        print('BOOM!')\n",
    "    \n",
    "boom_recursive(10)"
   ]
  },
  {
   "cell_type": "code",
   "execution_count": 15,
   "id": "7651e142",
   "metadata": {},
   "outputs": [
    {
     "name": "stdout",
     "output_type": "stream",
     "text": [
      "10\n",
      "9\n",
      "8\n",
      "7\n",
      "6\n",
      "5\n",
      "4\n",
      "3\n",
      "2\n",
      "1\n",
      "BOOM!\n"
     ]
    }
   ],
   "source": [
    "class Boom_OOP:\n",
    "\n",
    "    def __init__(self,n):\n",
    "        self.n  = n\n",
    "\n",
    "    def boom(self):\n",
    "        for y in [x for x in range(self.n, 0, -1)]:\n",
    "            print(y)\n",
    "        print('BOOM!')\n",
    "    \n",
    "\"\"\"\n",
    "should print:\n",
    "10\n",
    "9\n",
    "8\n",
    "7\n",
    "6\n",
    "5\n",
    "4\n",
    "3\n",
    "2\n",
    "1\n",
    "BOOM!\n",
    "\"\"\"\n",
    "    \n",
    "boom = Boom_OOP(10)\n",
    "boom.boom()"
   ]
  },
  {
   "cell_type": "code",
   "execution_count": 16,
   "id": "8c5f2597",
   "metadata": {},
   "outputs": [
    {
     "name": "stdout",
     "output_type": "stream",
     "text": [
      "correct!\n"
     ]
    }
   ],
   "source": [
    "#     what is gcd(0,a) ?  ( it is a )\n",
    "#     what is gcd(b,a)  ? ( it is gcd(b-a,a) )\n",
    "#\n",
    "\n",
    "def gcd(a,b):\n",
    "    \"\"\"\n",
    "    given integers a, b, returns the gcd of a and b.\n",
    "    \n",
    "    if any of a, b < 0, then take -a or -b, as needed\n",
    "    \"\"\"\n",
    "    \n",
    "    # plan: suppose a>b, gcd(a,b) == gcd(a-kb,b) for any k\n",
    "    # but think of a k large enough to make a smaller than b, but not negative.\n",
    "    # (if it turns out you can make a-kb==0, well then what?)\n",
    "    \n",
    "    # and you can recurse then on the two numbers\n",
    "    if a == 1 or b == 1:\n",
    "        return 1\n",
    "    elif a > b:\n",
    "        if (b == 0):\n",
    "            return a\n",
    "        if (a%b == 0):\n",
    "            return b\n",
    "        return gcd(a%b, b)\n",
    "    elif a < b:\n",
    "        if (a == 0):\n",
    "            return b\n",
    "        if (b%a == 0):\n",
    "            return a\n",
    "        return gcd(a, b%a)\n",
    "    else:\n",
    "        return a\n",
    "\n",
    "\n",
    "test = [(1,1,1),(3,5,1),(2,4,2),(15,5,5),(21,15,3)]\n",
    "\n",
    "def test_gcd(test):\n",
    "    correct = 0\n",
    "    for t in test:\n",
    "        \n",
    "        if gcd(t[0],t[1])==t[2]:\n",
    "            correct += 1\n",
    "    return correct==len(test)\n",
    "\n",
    "if test_gcd(test):\n",
    "    print('correct!')\n",
    "else:\n",
    "    print('fix my broken code')"
   ]
  },
  {
   "cell_type": "code",
   "execution_count": 20,
   "id": "ed8cfd86",
   "metadata": {},
   "outputs": [
    {
     "name": "stdout",
     "output_type": "stream",
     "text": [
      "correct!\n"
     ]
    }
   ],
   "source": [
    "# fix my broken code\n",
    "\n",
    "# a note about Python text. \"\" and '' are identical in function. Unlike some languages,\n",
    "# Python does not have a character datatype. For people used to, be careful because 'a' is\n",
    "# character sequence that happens to be one character long\n",
    "\n",
    "# The triple quote \"\"\" \"\"\" is used in docstrings; if a triple quoted string is the first statement\n",
    "# of a function, it is collected up for the automated documentation of that function\n",
    "\n",
    "\n",
    "def count_the_vowels(s):\n",
    "    \"\"\"\n",
    "    Given a string s, return the count of vowels in s\n",
    "    \"\"\"\n",
    "    vowels = 'aeiou'\n",
    "    count = 0\n",
    "    # hint: iterate through s\n",
    "    # count +1 using a statement like 'if x in a', where a teaches the program\n",
    "    # what a vowel is\n",
    "    for c in s:\n",
    "        if c in vowels: \n",
    "            count +=1\n",
    "\n",
    "    return count\n",
    "\n",
    "text = \"The world will little note, nor long remember what we say here, but it can never forget what they did here.\"\n",
    "\n",
    "def test_count_the_vowels():\n",
    "    if count_the_vowels(text)==29:\n",
    "        print(\"correct!\")\n",
    "    else:\n",
    "        print(\"broken!\")\n",
    "\n",
    "test_count_the_vowels()"
   ]
  },
  {
   "cell_type": "code",
   "execution_count": 30,
   "id": "ac5b0037",
   "metadata": {},
   "outputs": [
    {
     "name": "stdout",
     "output_type": "stream",
     "text": [
      "correct!\n"
     ]
    }
   ],
   "source": [
    "# fix my broken code\n",
    "\n",
    "# this also introduces the append method of a list, comparison of lists,\n",
    "# \"square bracket\" indexing of a list, and the sort method for a list\n",
    "\n",
    "\n",
    "\n",
    "def list_uniq(l_in):\n",
    "    \"\"\"\n",
    "    given a list return a list of the unique values.\n",
    "    do this (perhaps) using sorting (why?)\n",
    "    \"\"\"\n",
    "    \n",
    "    ## hint, \"sort\" is a method of an array that sorts in place! \n",
    "    ##    make sure you understand --> in place <--\n",
    "    # then go thorough starting from an empty list (  [] ) using\n",
    "    # append to add an element the __first__ (and only the first) time\n",
    "    # you encounter it (enumerate the sorted list)\n",
    "    \n",
    "    # Q: why did we sort the list? is it necessary? \n",
    "    \n",
    "    # https://docs.python.org/3/library/functions.html#sorted  (builtin)\n",
    "    # https://docs.python.org/3/howto/sorting.html (list method)\n",
    "    \n",
    "    l_in.sort()\n",
    "    uniq_list = []\n",
    "    for i in range(len(l_in)-1):\n",
    "        uniq_list.append(l_in[i])\n",
    "        if l_in[i] == l_in[i+1]:\n",
    "            uniq_list.pop() \n",
    "    uniq_list.append(l_in[len(l_in)-1])\n",
    "    return uniq_list \n",
    "\n",
    "def test_list_uniq():\n",
    "    l_in = [3,2,6,4,1,5,4,4,1,3,5,6,9]\n",
    "    ans = [1, 2, 3, 4, 5, 6, 9]\n",
    "    if ans == list_uniq(l_in):\n",
    "        print(\"correct!\")\n",
    "    else:\n",
    "        print(\"broken!\")\n",
    "\n",
    "test_list_uniq()"
   ]
  },
  {
   "cell_type": "code",
   "execution_count": null,
   "id": "572d69f5",
   "metadata": {},
   "outputs": [],
   "source": []
  },
  {
   "cell_type": "code",
   "execution_count": null,
   "id": "f368782a",
   "metadata": {},
   "outputs": [],
   "source": []
  }
 ],
 "metadata": {
  "kernelspec": {
   "display_name": "Python 3 (ipykernel)",
   "language": "python",
   "name": "python3"
  },
  "language_info": {
   "codemirror_mode": {
    "name": "ipython",
    "version": 3
   },
   "file_extension": ".py",
   "mimetype": "text/x-python",
   "name": "python",
   "nbconvert_exporter": "python",
   "pygments_lexer": "ipython3",
   "version": "3.9.12"
  }
 },
 "nbformat": 4,
 "nbformat_minor": 5
}
