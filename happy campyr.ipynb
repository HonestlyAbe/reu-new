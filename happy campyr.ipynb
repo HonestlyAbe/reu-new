{
 "cells": [
  {
   "cell_type": "code",
   "execution_count": 7,
   "id": "dfbece2e",
   "metadata": {},
   "outputs": [
    {
     "name": "stdout",
     "output_type": "stream",
     "text": [
      "10\n",
      "9\n",
      "8\n",
      "7\n",
      "6\n",
      "5\n",
      "4\n",
      "3\n",
      "2\n",
      "1\n",
      "BOOM!\n"
     ]
    }
   ],
   "source": [
    "def boom(n):\n",
    "    \"\"\"\n",
    "    write a program that counts down and then says Boom!\n",
    "    \"\"\"\n",
    "    for i in range(n, 0, -1):\n",
    "        print(i)\n",
    "    print(\"BOOM!\")\n",
    "\n",
    "\"\"\"\n",
    "should print:\n",
    "10\n",
    "9\n",
    "8\n",
    "7\n",
    "6\n",
    "5\n",
    "4\n",
    "3\n",
    "2\n",
    "1\n",
    "BOOM!\n",
    "\"\"\"\n",
    "boom(10)"
   ]
  },
  {
   "cell_type": "code",
   "execution_count": 9,
   "id": "f50c6dde",
   "metadata": {},
   "outputs": [
    {
     "name": "stdout",
     "output_type": "stream",
     "text": [
      "printing object of type <class 'list'>\n",
      "10\n",
      "9\n",
      "8\n",
      "7\n",
      "6\n",
      "5\n",
      "4\n",
      "3\n",
      "2\n",
      "1\n",
      "BOOM!\n"
     ]
    }
   ],
   "source": [
    "def print_them_all(the_list):\n",
    "    \"\"\"\n",
    "    assumes the_list is a list\n",
    "    topics -\n",
    "        iterables\n",
    "        list data type\n",
    "        a string is an iterable (see next box)\n",
    "    \"\"\"\n",
    "    for element in the_list:\n",
    "        print(element)\n",
    "\n",
    "def the_new_boom(n):\n",
    "    \n",
    "    def make_a_list(n):\n",
    "        return [x for x in range(n, 0, -1)]\n",
    "    \n",
    "    the_list = make_a_list(n)\n",
    "    print_them_all(the_list)\n",
    "    print(\"BOOM!\")\n",
    "    \n",
    "the_new_boom(10)"
   ]
  },
  {
   "cell_type": "code",
   "execution_count": null,
   "id": "016dc02b",
   "metadata": {},
   "outputs": [],
   "source": []
  }
 ],
 "metadata": {
  "kernelspec": {
   "display_name": "Python 3 (ipykernel)",
   "language": "python",
   "name": "python3"
  },
  "language_info": {
   "codemirror_mode": {
    "name": "ipython",
    "version": 3
   },
   "file_extension": ".py",
   "mimetype": "text/x-python",
   "name": "python",
   "nbconvert_exporter": "python",
   "pygments_lexer": "ipython3",
   "version": "3.9.12"
  }
 },
 "nbformat": 4,
 "nbformat_minor": 5
}
