{
 "cells": [
  {
   "cell_type": "code",
   "execution_count": 7,
   "id": "55e4556b",
   "metadata": {},
   "outputs": [
    {
     "name": "stdout",
     "output_type": "stream",
     "text": [
      "10\n",
      "9\n",
      "8\n",
      "7\n",
      "6\n",
      "5\n",
      "4\n",
      "3\n",
      "2\n",
      "1\n",
      "BOOM!\n"
     ]
    }
   ],
   "source": [
    "def boom(n):\n",
    "    \"\"\"\n",
    "    write a program that counts down and then says Boom!\n",
    "    \"\"\"\n",
    "    for i in range(n, 0, -1):\n",
    "        print(i)\n",
    "    print(\"BOOM!\")\n",
    "\n",
    "\"\"\"\n",
    "should print:\n",
    "10\n",
    "9\n",
    "8\n",
    "7\n",
    "6\n",
    "5\n",
    "4\n",
    "3\n",
    "2\n",
    "1\n",
    "BOOM!\n",
    "\"\"\"\n",
    "boom(10)"
   ]
  },
  {
   "cell_type": "code",
   "execution_count": 9,
   "id": "1901a8a8",
   "metadata": {},
   "outputs": [
    {
     "name": "stdout",
     "output_type": "stream",
     "text": [
      "printing object of type <class 'list'>\n",
      "10\n",
      "9\n",
      "8\n",
      "7\n",
      "6\n",
      "5\n",
      "4\n",
      "3\n",
      "2\n",
      "1\n",
      "BOOM!\n"
     ]
    }
   ],
   "source": [
    "def print_them_all(the_list):\n",
    "    \"\"\"\n",
    "    assumes the_list is a list\n",
    "    topics -\n",
    "        iterables\n",
    "        list data type\n",
    "        a string is an iterable (see next box)\n",
    "    \"\"\"\n",
    "    for element in the_list:\n",
    "        print(element)\n",
    "\n",
    "def the_new_boom(n):\n",
    "    \n",
    "    def make_a_list(n):\n",
    "        return [x for x in range(n, 0, -1)]\n",
    "    \n",
    "    the_list = make_a_list(n)\n",
    "    print_them_all(the_list)\n",
    "    print(\"BOOM!\")\n",
    "    \n",
    "the_new_boom(10)"
   ]
  },
  {
   "cell_type": "code",
   "execution_count": 11,
   "id": "4376f885",
   "metadata": {},
   "outputs": [
    {
     "name": "stdout",
     "output_type": "stream",
     "text": [
      "10\n",
      "9\n",
      "8\n",
      "7\n",
      "6\n",
      "5\n",
      "4\n",
      "3\n",
      "2\n",
      "1\n",
      "BOOM!\n"
     ]
    }
   ],
   "source": [
    "def boom_recursive(n):\n",
    "    if n > 0:\n",
    "        print(n)\n",
    "        boom_recursive(n-1)\n",
    "    else:\n",
    "        print('BOOM!')\n",
    "    \n",
    "boom_recursive(10)"
   ]
  },
  {
   "cell_type": "code",
   "execution_count": 15,
   "id": "7651e142",
   "metadata": {},
   "outputs": [
    {
     "name": "stdout",
     "output_type": "stream",
     "text": [
      "10\n",
      "9\n",
      "8\n",
      "7\n",
      "6\n",
      "5\n",
      "4\n",
      "3\n",
      "2\n",
      "1\n",
      "BOOM!\n"
     ]
    }
   ],
   "source": [
    "class Boom_OOP:\n",
    "\n",
    "    def __init__(self,n):\n",
    "        self.n  = n\n",
    "\n",
    "    def boom(self):\n",
    "        for y in [x for x in range(self.n, 0, -1)]:\n",
    "            print(y)\n",
    "        print('BOOM!')\n",
    "    \n",
    "\"\"\"\n",
    "should print:\n",
    "10\n",
    "9\n",
    "8\n",
    "7\n",
    "6\n",
    "5\n",
    "4\n",
    "3\n",
    "2\n",
    "1\n",
    "BOOM!\n",
    "\"\"\"\n",
    "    \n",
    "boom = Boom_OOP(10)\n",
    "boom.boom()"
   ]
  },
  {
   "cell_type": "code",
   "execution_count": null,
   "id": "8c5f2597",
   "metadata": {},
   "outputs": [],
   "source": []
  }
 ],
 "metadata": {
  "kernelspec": {
   "display_name": "Python 3 (ipykernel)",
   "language": "python",
   "name": "python3"
  },
  "language_info": {
   "codemirror_mode": {
    "name": "ipython",
    "version": 3
   },
   "file_extension": ".py",
   "mimetype": "text/x-python",
   "name": "python",
   "nbconvert_exporter": "python",
   "pygments_lexer": "ipython3",
   "version": "3.9.12"
  }
 },
 "nbformat": 4,
 "nbformat_minor": 5
}
